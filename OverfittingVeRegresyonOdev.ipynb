{
 "cells": [
  {
   "cell_type": "code",
   "execution_count": 20,
   "metadata": {},
   "outputs": [],
   "source": [
    "import matplotlib.pyplot as plt\n",
    "import numpy as np\n",
    "import pandas as pd\n",
    "from sklearn.linear_model import LinearRegression\n",
    "from sklearn.model_selection import train_test_split\n",
    "from sklearn.metrics import mean_absolute_error\n",
    "from statsmodels.tools.eval_measures import mse, rmse\n",
    "\n",
    "# Display preferences.\n",
    "%matplotlib inline\n",
    "pd.options.display.float_format = '{:.3f}'.format\n",
    "\n",
    "import warnings\n",
    "warnings.filterwarnings(action=\"ignore\")"
   ]
  },
  {
   "cell_type": "code",
   "execution_count": 21,
   "metadata": {},
   "outputs": [],
   "source": [
    "ev_fiyatlari = pd.read_csv('./data/ev_fiyatlari.csv')"
   ]
  },
  {
   "cell_type": "code",
   "execution_count": 22,
   "metadata": {},
   "outputs": [],
   "source": [
    "SaleCond=pd.get_dummies(ev_fiyatlari.SaleCondition,prefix='SaleCond', drop_first=True)\n",
    "SaleTyp=pd.get_dummies(ev_fiyatlari.SaleType,prefix='SaleTyp', drop_first=True)\n",
    "KitchenQ=pd.get_dummies(ev_fiyatlari.KitchenQual,prefix='KitchenQ', drop_first=True)\n",
    "numerik_kolonlar = [kolon for kolon in ev_fiyatlari.dtypes[ev_fiyatlari.dtypes.values == 'int64'].index \n",
    "                    if kolon not in [\"Id\", \"SalePrice\"] ]\n",
    "X = ev_fiyatlari[numerik_kolonlar]\n",
    "\n",
    "X=pd.concat([X,KitchenQ,SaleTyp,SaleCond], axis=1)\n",
    "\n",
    "Y=ev_fiyatlari.SalePrice"
   ]
  },
  {
   "cell_type": "code",
   "execution_count": 23,
   "metadata": {},
   "outputs": [],
   "source": [
    "#Verimizi eğitim ve test kümesi olarak ayıralım.\n",
    "X_egitim, X_test, y_egitim, y_test = train_test_split(X, Y, test_size = 0.2, random_state = 465)"
   ]
  },
  {
   "cell_type": "code",
   "execution_count": 24,
   "metadata": {},
   "outputs": [
    {
     "name": "stdout",
     "output_type": "stream",
     "text": [
      "Eğitim kümesindeki gözlem sayısı  : 1168\n",
      "Test kümesindeki gözlem sayısı    : 292 \n",
      "\n",
      "Eğitim kümesindeki R-Kare değeri  : 0.8362911953698019\n",
      "-----Test kümesi istatistikleri---\n",
      "Test kümesi R-Kare değeri         : 0.7315172408973368\n",
      "Ortalama Mutlak Hata (MAE)        : 22811.87899400111\n",
      "Ortalama Kare Hata (MSE)          : 1945256068.1201859\n",
      "Kök Ortalama Kare Hata (RMSE)     : 44105.05717171429\n",
      "Ortalama Mutlak Yüzde Hata (MAPE) : 12.56928724694257\n"
     ]
    }
   ],
   "source": [
    "lrm = LinearRegression()\n",
    "lrm.fit(X_egitim, y_egitim)\n",
    "\n",
    "y_egitim_tahmini = lrm.predict(X_egitim)\n",
    "y_test_tahmini = lrm.predict(X_test)\n",
    "\n",
    "print(\"Eğitim kümesindeki gözlem sayısı  : {}\".format(X_egitim.shape[0]))\n",
    "print(\"Test kümesindeki gözlem sayısı    : {}\".format(X_test.shape[0]), \"\\n\")\n",
    "\n",
    "print(\"Eğitim kümesindeki R-Kare değeri  : {}\".format(lrm.score(X_egitim, y_egitim)))\n",
    "print(\"-----Test kümesi istatistikleri---\")\n",
    "print(\"Test kümesi R-Kare değeri         : {}\".format(lrm.score(X_test, y_test)))\n",
    "print(\"Ortalama Mutlak Hata (MAE)        : {}\".format(mean_absolute_error(y_test, y_test_tahmini)))\n",
    "print(\"Ortalama Kare Hata (MSE)          : {}\".format(mse(y_test, y_test_tahmini)))\n",
    "print(\"Kök Ortalama Kare Hata (RMSE)     : {}\".format(rmse(y_test, y_test_tahmini)))\n",
    "print(\"Ortalama Mutlak Yüzde Hata (MAPE) : {}\".format(np.mean(np.abs((y_test - y_test_tahmini) / y_test)) * 100))\n",
    "\n"
   ]
  },
  {
   "cell_type": "code",
   "execution_count": 27,
   "metadata": {},
   "outputs": [
    {
     "name": "stdout",
     "output_type": "stream",
     "text": [
      "Eğitim kümesi R-Kare değeri       : 0.8337373974191298\n",
      "-----Test kümesi istatistikleri---\n",
      "Test kümesi R-Kare değeri         : 0.7203984088982109\n",
      "Ortalama Mutlak Hata (MAE)        : 23117.644994850565\n",
      "Ortalama Kare Hata (MSE)          : 2025816084.2977538\n",
      "Kök Ortalama Kare Hata (RMSE)     : 45009.066689920975\n",
      "Ortalama Mutlak Yüzde Hata (MAPE) : 12.715455952081783\n"
     ]
    }
   ],
   "source": [
    "#Ridge regresyonu\n",
    "\n",
    "from sklearn.linear_model import Ridge\n",
    "\n",
    "ridgeregr = Ridge(alpha=10) \n",
    "ridgeregr.fit(X_egitim, y_egitim)\n",
    "\n",
    "y_egitim_tahmini = ridgeregr.predict(X_egitim)\n",
    "y_test_tahmini = ridgeregr.predict(X_test)\n",
    "\n",
    "print(\"Eğitim kümesi R-Kare değeri       : {}\".format(ridgeregr.score(X_egitim, y_egitim)))\n",
    "print(\"-----Test kümesi istatistikleri---\")\n",
    "print(\"Test kümesi R-Kare değeri         : {}\".format(ridgeregr.score(X_test, y_test)))\n",
    "print(\"Ortalama Mutlak Hata (MAE)        : {}\".format(mean_absolute_error(y_test, y_test_tahmini)))\n",
    "print(\"Ortalama Kare Hata (MSE)          : {}\".format(mse(y_test, y_test_tahmini)))\n",
    "print(\"Kök Ortalama Kare Hata (RMSE)     : {}\".format(rmse(y_test, y_test_tahmini)))\n",
    "print(\"Ortalama Mutlak Yüzde Hata (MAPE) : {}\".format(np.mean(np.abs((y_test - y_test_tahmini) / y_test)) * 100))\n"
   ]
  },
  {
   "cell_type": "code",
   "execution_count": 28,
   "metadata": {},
   "outputs": [
    {
     "name": "stdout",
     "output_type": "stream",
     "text": [
      "Eğitim kümesi R-Kare değeri       : 0.8361674848526645\n",
      "-----Test kümesi istatistikleri---\n",
      "Test kümesi R-Kare değeri         : 0.7303724034295821\n",
      "Ortalama Mutlak Hata (MAE)        : 22801.145073826316\n",
      "Ortalama Kare Hata (MSE)          : 1953550835.495955\n",
      "Kök Ortalama Kare Hata (RMSE)     : 44198.99134025521\n",
      "Ortalama Mutlak Yüzde Hata (MAPE) : 12.527625148118531\n"
     ]
    }
   ],
   "source": [
    "#Lasso regresyonu\n",
    "from sklearn.linear_model import Lasso\n",
    "\n",
    "lassoregr = Lasso(alpha=10) \n",
    "lassoregr.fit(X_egitim, y_egitim)\n",
    "\n",
    "y_egitim_tahmini = lassoregr.predict(X_egitim)\n",
    "y_test_tahmini = lassoregr.predict(X_test)\n",
    "\n",
    "print(\"Eğitim kümesi R-Kare değeri       : {}\".format(lassoregr.score(X_egitim, y_egitim)))\n",
    "print(\"-----Test kümesi istatistikleri---\")\n",
    "print(\"Test kümesi R-Kare değeri         : {}\".format(lassoregr.score(X_test, y_test)))\n",
    "print(\"Ortalama Mutlak Hata (MAE)        : {}\".format(mean_absolute_error(y_test, y_test_tahmini)))\n",
    "print(\"Ortalama Kare Hata (MSE)          : {}\".format(mse(y_test, y_test_tahmini)))\n",
    "print(\"Kök Ortalama Kare Hata (RMSE)     : {}\".format(rmse(y_test, y_test_tahmini)))\n",
    "print(\"Ortalama Mutlak Yüzde Hata (MAPE) : {}\".format(np.mean(np.abs((y_test - y_test_tahmini) / y_test)) * 100))\n",
    "\n",
    "#R-kare, eğitim kümesinde 0.75 ve test kümesinde 0,51'tir. Test kümesindeki R kare değeri, bu derste ele aldığımız \n",
    "#modeller arasında en yüksek olanıdır. "
   ]
  },
  {
   "cell_type": "code",
   "execution_count": 29,
   "metadata": {},
   "outputs": [
    {
     "name": "stdout",
     "output_type": "stream",
     "text": [
      "Eğitim kümesi R-Kare değeri       : 0.7711223505533931\n",
      "-----Test kümesi istatistikleri---\n",
      "Test kümesi R-Kare değeri         : 0.6156297359833318\n",
      "Ortalama Mutlak Hata (MAE)        : 27522.277734113817\n",
      "Ortalama Kare Hata (MSE)          : 2784903548.3037276\n",
      "Kök Ortalama Kare Hata (RMSE)     : 52772.18536600249\n",
      "Ortalama Mutlak Yüzde Hata (MAPE) : 14.611838736844055\n"
     ]
    }
   ],
   "source": [
    "#ElasticNet regresyonu\n",
    "\n",
    "from sklearn.linear_model import ElasticNet\n",
    "\n",
    "elasticregr = ElasticNet(alpha=10, l1_ratio=0.5) \n",
    "elasticregr.fit(X_egitim, y_egitim)\n",
    "\n",
    "y_egitim_tahmini = elasticregr.predict(X_egitim)\n",
    "y_test_tahmini = elasticregr.predict(X_test)\n",
    "\n",
    "print(\"Eğitim kümesi R-Kare değeri       : {}\".format(elasticregr.score(X_egitim, y_egitim)))\n",
    "print(\"-----Test kümesi istatistikleri---\")\n",
    "print(\"Test kümesi R-Kare değeri         : {}\".format(elasticregr.score(X_test, y_test)))\n",
    "print(\"Ortalama Mutlak Hata (MAE)        : {}\".format(mean_absolute_error(y_test, y_test_tahmini)))\n",
    "print(\"Ortalama Kare Hata (MSE)          : {}\".format(mse(y_test, y_test_tahmini)))\n",
    "print(\"Kök Ortalama Kare Hata (RMSE)     : {}\".format(rmse(y_test, y_test_tahmini)))\n",
    "print(\"Ortalama Mutlak Yüzde Hata (MAPE) : {}\".format(np.mean(np.abs((y_test - y_test_tahmini) / y_test)) * 100))\n",
    "\n",
    "#alpha= alpha1 + alpha2,  l1_ratio =alpha1/(alpha1 + alpha2)"
   ]
  },
  {
   "cell_type": "code",
   "execution_count": 35,
   "metadata": {},
   "outputs": [
    {
     "name": "stdout",
     "output_type": "stream",
     "text": [
      "Eğitim kümesi R-Kare değeri       : 0.8167691148994566\n",
      "-----Test kümesi istatistikleri---\n",
      "Test kümesi R-Kare değeri         : 0.6895761614270884\n",
      "Ortalama Mutlak Hata (MAE)        : 25126.56289919576\n",
      "Ortalama Kare Hata (MSE)          : 2249134572.705333\n",
      "Kök Ortalama Kare Hata (RMSE)     : 47425.04162049131\n",
      "Ortalama Mutlak Yüzde Hata (MAPE) : 13.913045538097432\n"
     ]
    }
   ],
   "source": [
    "#ElasticNet regresyonu\n",
    "\n",
    "from sklearn.linear_model import ElasticNet\n",
    "\n",
    "elasticregr = ElasticNet(alpha=0, l1_ratio=0.1) \n",
    "elasticregr.fit(X_egitim, y_egitim)\n",
    "\n",
    "y_egitim_tahmini = elasticregr.predict(X_egitim)\n",
    "y_test_tahmini = elasticregr.predict(X_test)\n",
    "\n",
    "print(\"Eğitim kümesi R-Kare değeri       : {}\".format(elasticregr.score(X_egitim, y_egitim)))\n",
    "print(\"-----Test kümesi istatistikleri---\")\n",
    "print(\"Test kümesi R-Kare değeri         : {}\".format(elasticregr.score(X_test, y_test)))\n",
    "print(\"Ortalama Mutlak Hata (MAE)        : {}\".format(mean_absolute_error(y_test, y_test_tahmini)))\n",
    "print(\"Ortalama Kare Hata (MSE)          : {}\".format(mse(y_test, y_test_tahmini)))\n",
    "print(\"Kök Ortalama Kare Hata (RMSE)     : {}\".format(rmse(y_test, y_test_tahmini)))\n",
    "print(\"Ortalama Mutlak Yüzde Hata (MAPE) : {}\".format(np.mean(np.abs((y_test - y_test_tahmini) / y_test)) * 100))\n",
    "\n",
    "#alpha= alpha1 + alpha2,  l1_ratio =alpha1/(alpha1 + alpha2)"
   ]
  },
  {
   "cell_type": "code",
   "execution_count": 30,
   "metadata": {},
   "outputs": [
    {
     "name": "stdout",
     "output_type": "stream",
     "text": [
      "Değişkenler: \n",
      " [-1.40543319e+02  3.92696570e-01  2.42005134e+03  1.01052114e+03\n",
      "  5.46569498e+02  4.67020337e+02  2.48181049e+01  4.45256405e+00\n",
      "  1.27063735e+01  8.88308170e+00  5.36784314e+01  6.00649990e+01\n",
      "  4.39068366e+01  9.50541318e+00  2.52504877e+02 -1.92408720e+00\n",
      "  2.22220615e+01 -7.66937622e+01 -5.83260565e+02 -1.81326347e+02\n",
      "  2.17822939e+02  6.03142916e+02  2.98381595e+02  5.28733992e+01\n",
      "  4.27236085e+01 -8.84685971e+00  4.95830164e+01  2.33710017e+01\n",
      "  9.07762091e+01 -3.65323716e+02 -6.54295449e+00 -7.22587503e+01\n",
      " -1.94418076e+02  4.73192505e+01 -1.46493480e+02 -4.73787172e+02\n",
      "  1.94130186e+01  0.00000000e+00 -2.54069843e+00  1.06694436e+01\n",
      "  1.90804665e+00  2.97426744e+02 -4.06337737e+00 -2.39300862e+02\n",
      "  2.64914823e+00 -5.72271818e+00 -6.29746907e+01 -1.09893982e+02\n",
      "  2.91087156e+02]\n",
      "Sabit değer (bias): \n",
      " -1606044.9558235065\n"
     ]
    }
   ],
   "source": [
    "print('Değişkenler: \\n', elasticregr.coef_)\n",
    "print('Sabit değer (bias): \\n', elasticregr.intercept_)"
   ]
  },
  {
   "cell_type": "code",
   "execution_count": null,
   "metadata": {},
   "outputs": [],
   "source": []
  }
 ],
 "metadata": {
  "kernelspec": {
   "display_name": "Python 3",
   "language": "python",
   "name": "python3"
  },
  "language_info": {
   "codemirror_mode": {
    "name": "ipython",
    "version": 3
   },
   "file_extension": ".py",
   "mimetype": "text/x-python",
   "name": "python",
   "nbconvert_exporter": "python",
   "pygments_lexer": "ipython3",
   "version": "3.7.1"
  }
 },
 "nbformat": 4,
 "nbformat_minor": 2
}
